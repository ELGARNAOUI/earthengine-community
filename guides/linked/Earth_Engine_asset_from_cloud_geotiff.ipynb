{
  "nbformat": 4,
  "nbformat_minor": 0,
  "metadata": {
    "colab": {
      "provenance": [
        {
          "file_id": "https://github.com/google/earthengine-community/blob/master/guides/linked/Earth_Engine_asset_from_cloud_geotiff.ipynb",
          "timestamp": 1724814274030
        }
      ],
      "private_outputs": true
    },
    "kernelspec": {
      "name": "python3",
      "display_name": "Python 3"
    }
  },
  "cells": [
    {
      "cell_type": "code",
      "metadata": {
        "id": "fSIfBsgi8dNK"
      },
      "source": [
        "#@title Copyright 2022 Google LLC. { display-mode: \"form\" }\n",
        "# Licensed under the Apache License, Version 2.0 (the \"License\");\n",
        "# you may not use this file except in compliance with the License.\n",
        "# You may obtain a copy of the License at\n",
        "#\n",
        "# https://www.apache.org/licenses/LICENSE-2.0\n",
        "#\n",
        "# Unless required by applicable law or agreed to in writing, software\n",
        "# distributed under the License is distributed on an \"AS IS\" BASIS,\n",
        "# WITHOUT WARRANTIES OR CONDITIONS OF ANY KIND, either express or implied.\n",
        "# See the License for the specific language governing permissions and\n",
        "# limitations under the License."
      ],
      "execution_count": null,
      "outputs": []
    },
    {
      "cell_type": "markdown",
      "metadata": {
        "id": "aV1xZ1CPi3Nw"
      },
      "source": [
        "\u003ctable class=\"ee-notebook-buttons\" align=\"left\"\u003e\u003ctd\u003e\n",
        "\u003ca target=\"_blank\"  href=\"http://colab.research.google.com/github/google/earthengine-community/blob/master/guides/linked/Earth_Engine_asset_from_cloud_geotiff.ipynb\"\u003e\n",
        "    \u003cimg src=\"https://www.tensorflow.org/images/colab_logo_32px.png\" /\u003e Run in Google Colab\u003c/a\u003e\n",
        "\u003c/td\u003e\u003ctd\u003e\n",
        "\u003ca target=\"_blank\"  href=\"https://github.com/google/earthengine-community/blob/master/guides/linked/Earth_Engine_asset_from_cloud_geotiff.ipynb\"\u003e\u003cimg width=32px src=\"https://www.tensorflow.org/images/GitHub-Mark-32px.png\" /\u003e View source on GitHub\u003c/a\u003e\u003c/td\u003e\u003c/table\u003e"
      ]
    },
    {
      "cell_type": "markdown",
      "metadata": {
        "id": "CrEM35gqHouU"
      },
      "source": [
        "# Cloud GeoTiff Backed Earth Engine Assets\n",
        "\n",
        "***Note:*** *The REST API contains new and advanced features that may not be suitable for all users.  If you are new to Earth Engine, please get started with the [JavaScript guide](https://developers.google.com/earth-engine/guides/getstarted).*\n",
        "\n",
        "Earth Engine can load images from Cloud Optimized GeoTiffs (COGs) in Google Cloud Storage ([learn more](https://developers.google.com/earth-engine/guides/image_overview#images-from-cloud-geotiffs)).  This notebook demonstrates how to create Earth Engine assets backed by COGs.  An advantage of COG-backed assets is that the spatial and metadata fields of the image will be indexed at asset creation time, making the image more performant in collections.  (In contrast, an image created through `ee.Image.loadGeoTIFF` and put into a collection will require a read of the GeoTiff for filtering operations on the collection.)  The performance of COG-backed assets is comparable to that of ingested assets in typical use cases.\n",
        "\n",
        "To create a COG-backed asset, make a `POST` request to the Earth Engine [`ImportExternalImage` endpoint](https://developers.google.com/earth-engine/reference/rest/v1alpha/projects.assets/create).  As shown in the following, this request must be authorized to create an asset in your user folder."
      ]
    },
    {
      "cell_type": "markdown",
      "metadata": {
        "id": "fmxat3ujhwGx"
      },
      "source": [
        "## Start an authorized session\n",
        "\n",
        "To be able to make an Earth Engine asset in your user folder, you need to be able to authenticate as yourself when you make the request.  You can use credentials from the Earth Engine authenticator to start an [`AuthorizedSession`](https://google-auth.readthedocs.io/en/master/reference/google.auth.transport.requests.html#google.auth.transport.requests.AuthorizedSession).  You can then use the `AuthorizedSession` to send requests to Earth Engine."
      ]
    },
    {
      "cell_type": "code",
      "metadata": {
        "id": "qVu8GhINwYfO"
      },
      "source": [
        "import ee\n",
        "import json\n",
        "from pprint import pprint\n",
        "from google.auth.transport.requests import AuthorizedSession\n",
        "\n",
        "ee.Authenticate()  #  or !earthengine authenticate --auth_mode=gcloud\n",
        "\n",
        "# Specify the cloud project you want associated with Earth Engine requests.\n",
        "ee_project = 'your-project'\n",
        "\n",
        "session = AuthorizedSession(\n",
        "    ee.data.get_persistent_credentials().with_quota_project(ee_project)\n",
        ")"
      ],
      "execution_count": null,
      "outputs": []
    },
    {
      "cell_type": "markdown",
      "metadata": {
        "id": "jz8e263wvbTN"
      },
      "source": [
        "## Request body\n",
        "\n",
        "The request body is an instance of an [`ImageManifest`](https://developers.google.com/earth-engine/reference/rest/v1alpha/projects.image/import#ImageManifest).  This is where the path to the COG is specified, along with other useful properties.\n",
        "\n",
        "See [this guide](https://developers.google.com/earth-engine/guides/image_manifest) for details on how to configure an `ImageManifest`.  It is possible to define one or more `Tileset` with each backing one or more bands.  For `ImportExternalImage`, at most one `ImageSource` is supported per `Tileset`.\n",
        "\n",
        "See [this doc](https://developers.google.com/earth-engine/exporting#configuration-parameters) for details on exporting COGs."
      ]
    },
    {
      "cell_type": "markdown",
      "source": [
        "## One `Tileset`\n",
        "\n",
        "The simplest `ImageManifest` is one with one `Tileset`. If no bands are specified, the resulting asset will contain all the bands of the GeoTIFF with the band names encoded in the GeoTIFF (in this case, \"vis-red\", \"vis-green\", and \"vis-blue\")."
      ],
      "metadata": {
        "id": "gKumB8q9dOAi"
      }
    },
    {
      "cell_type": "code",
      "source": [
        "request = {\n",
        "  'imageManifest': {\n",
        "    'name': f'projects/{ee_project}/assets/cogdemo1',\n",
        "    'tilesets': [\n",
        "      { 'id': '0', 'sources': [ { 'uris': ['gs://ee-docs-demos/COG_demo.tif'] } ] }\n",
        "    ],\n",
        "    'properties': {\n",
        "      'source': 'https://code.earthengine.google.com/d541cf8b268b2f9d8f834c255698201d'\n",
        "    },\n",
        "    'startTime': '2016-01-01T00:00:00.000000000Z',\n",
        "    'endTime': '2016-12-31T15:01:23.000000000Z',\n",
        "  },\n",
        "}\n",
        "\n",
        "pprint(request)"
      ],
      "metadata": {
        "id": "0_KVRR-6iDaW"
      },
      "execution_count": null,
      "outputs": []
    },
    {
      "cell_type": "markdown",
      "source": [
        "## More than one `Tileset`\n",
        "\n",
        "It is possible to specify an `ImageManifest` with more than one `Tileset` where each band of the resulting asset is backed by one of the bands of a `Tileset` using the `tilesetId` and `tilesetBandIndex` fields. This is useful in the case when different bands have different resolutions or data types. Bands can be listed in any order from any available `Tileset`. In the example below:\n",
        "\n",
        "-   \"b4b3b2.tif\" has a 10m scale, while \"b5b6b7\" has a 20m scale.\n",
        "-   The band order of the resulting asset is mixed from the input COGs (e.g. output band 0 is from `Tileset` 0, while output band 1 is from `Tileset` 1).\n",
        "\n"
      ],
      "metadata": {
        "id": "yQiJsf74d3Zn"
      }
    },
    {
      "cell_type": "code",
      "metadata": {
        "id": "OGESPnfEvqVq",
        "collapsed": true
      },
      "source": [
        "request = {\n",
        "  'imageManifest': {\n",
        "    'name': f'projects/{ee_project}/assets/cogdemo2',\n",
        "    'uriPrefix': 'gs://ee-docs-demos/external_image_demo/',\n",
        "    'tilesets': [\n",
        "      { 'id': '0', 'sources': [ { 'uris': ['b4b3b2.tif'] } ] },\n",
        "      { 'id': '1', 'sources': [ { 'uris': ['b5b6b7.tif'] } ] },\n",
        "    ],\n",
        "    'bands': [\n",
        "      { 'id': 'red', 'tilesetId': '0', 'tilesetBandIndex': 0 },\n",
        "      { 'id': 'rededge3', 'tilesetId': '1', 'tilesetBandIndex': 2 },\n",
        "      { 'id': 'rededge2', 'tilesetId': '1', 'tilesetBandIndex': 1 },\n",
        "      { 'id': 'green', 'tilesetId': '0', 'tilesetBandIndex': 1 },\n",
        "      { 'id': 'blue', 'tilesetId': '1', 'tilesetBandIndex': 0 },\n",
        "      { 'id': 'rededge1', 'tilesetId': '0', 'tilesetBandIndex': 2 },\n",
        "    ],\n",
        "  },\n",
        "}\n",
        "\n",
        "pprint(request)"
      ],
      "execution_count": null,
      "outputs": []
    },
    {
      "cell_type": "markdown",
      "metadata": {
        "id": "9_MfryWIpyhS"
      },
      "source": [
        "## Send the request\n",
        "\n",
        "Make the POST request to the Earth Engine [`projects.images.importExternal`](https://developers.google.com/earth-engine/reference/rest/v1alpha/projects.images/importExternal) endpoint."
      ]
    },
    {
      "cell_type": "code",
      "metadata": {
        "id": "NhmNrvS2p4qQ"
      },
      "source": [
        "url = f'https://earthengine.googleapis.com/v1alpha/projects/{ee_project}/image:importExternal'\n",
        "\n",
        "response = session.post(\n",
        "  url = url,\n",
        "  data = json.dumps(request)\n",
        ")\n",
        "\n",
        "pprint(json.loads(response.content))"
      ],
      "execution_count": null,
      "outputs": []
    },
    {
      "cell_type": "markdown",
      "metadata": {
        "id": "mK5lCJY0CDfK"
      },
      "source": [
        "## Details on COG-backed assets\n",
        "\n",
        "### Location\n",
        "\n",
        "The Cloud Storage bucket location must be one of:\n",
        "\n",
        "- The US multi-region\n",
        "- Any US dual-region that includes US-CENTRAL1\n",
        "- The region US-CENTRAL1\n",
        "\n",
        "The metadata of the bucket must be accessible so that Earth Engine can determine its location. The calling user must have the permission `storage.buckets.get` which is provided by the role \"Storage Legacy Bucket Reader\" (among others), see https://cloud.google.com/storage/docs/access-control/iam-roles\n",
        "\n",
        "### Storage class\n",
        "\n",
        "The [storage class](https://cloud.google.com/storage/docs/storage-classes#classes) of the bucket must be \"Standard storage\".\n",
        "\n",
        "### Permissions\n",
        "The ACLs of COG-backed Earth Engine assets and the underlying data are managed separately. If a COG-backed asset is shared in Earth Engine, it is the owner's responsibility to ensure that the data in GCS is shared with the same parties. If the data is not visible, Earth Engine will return an error of the form \"Failed to load the GeoTIFF at `gs://my-bucket/my-object#123456`\" (123456 is the generation of the object).\n",
        "\n",
        "### Generations\n",
        "When a COG-backed asset is created, Earth Engine reads the metadata of TIFFs specified in the manifest and creates an asset store entry.  Each URI associated with that entry can have a generation.  See the [object versioning docs](https://cloud.google.com/storage/docs/object-versioning) for details on generations.  If a generation is specified, for example `gs://foo/bar#123`, Earth Engine will store that URI verbatim.  If a generation is not specified, Earth Engine will store that URI with the generation of the TIFF at the time `ImportExternalImage` was called.\n",
        "\n",
        "That means that if any TIFF comprising an external asset in GCS is updated (therefore changing its generation), Earth Engine will return a \"Failed to load the GeoTIFF at `gs://my-bucket/my-object#123456`\" error because the expected object no longer exists (unless the bucket enables multiple object versions).  This policy is designed to keep metadata of the asset in sync with the metadata of the object.\n",
        "\n",
        "### Configuration\n",
        "In terms of how a COG should be configured, the TIFF MUST be:\n",
        "\n",
        "- Tiled, where the tile dimensions are either:\n",
        "  - 256x256\n",
        "  - 512x512\n",
        "  - 1024x1024\n",
        "  - 2048x2048\n",
        "\n",
        "- Arranged so that all IFDs are at the beginning.\n",
        "\n",
        "For best performance:\n",
        "\n",
        "- Use tile dimensions of 512x512 or higher.\n",
        "- Include power of 2 overviews.\n",
        "\n",
        "See [this page](https://cogeotiff.github.io/rio-cogeo/Advanced/#web-optimized-cog) for more details on an optimized configuration."
      ]
    }
  ]
}
